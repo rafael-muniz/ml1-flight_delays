{
 "cells": [
  {
   "cell_type": "markdown",
   "id": "b4911d00",
   "metadata": {
    "id": "b4911d00"
   },
   "source": [
    "## Predictive Modeling for Anticipating Flight Delays\n",
    "### Goal: Predict whether a flight will be delayed (15 min or more)"
   ]
  },
  {
   "cell_type": "code",
   "execution_count": 1,
   "id": "01d6b93d",
   "metadata": {
    "id": "01d6b93d"
   },
   "outputs": [],
   "source": [
    "import pandas as pd\n",
    "import matplotlib.pylab as plt\n",
    "from sklearn import preprocessing\n",
    "from sklearn.model_selection import train_test_split\n",
    "from sklearn.neighbors import NearestNeighbors, KNeighborsClassifier\n",
    "from sklearn.naive_bayes import MultinomialNB\n",
    "from sklearn.discriminant_analysis import LinearDiscriminantAnalysis\n",
    "from sklearn.metrics import accuracy_score, classification_report, precision_score, recall_score, f1_score\n",
    "from sklearn.metrics import plot_confusion_matrix, plot_roc_curve,confusion_matrix\n",
    "from dmba import plotDecisionTree, classificationSummary\n",
    "import warnings\n",
    "warnings.filterwarnings('ignore')"
   ]
  },
  {
   "cell_type": "code",
   "execution_count": 2,
   "id": "1fcebf13",
   "metadata": {
    "id": "1fcebf13"
   },
   "outputs": [],
   "source": [
    "# Import data into a pandas dataframe\n",
    "data = pd.read_csv(\"FlightDelays.csv\")"
   ]
  },
  {
   "cell_type": "code",
   "execution_count": 3,
   "id": "8846a55a",
   "metadata": {
    "id": "8846a55a",
    "outputId": "47236430-4c65-4ce5-a2ee-72afeec815a1"
   },
   "outputs": [
    {
     "data": {
      "text/html": [
       "<div>\n",
       "<style scoped>\n",
       "    .dataframe tbody tr th:only-of-type {\n",
       "        vertical-align: middle;\n",
       "    }\n",
       "\n",
       "    .dataframe tbody tr th {\n",
       "        vertical-align: top;\n",
       "    }\n",
       "\n",
       "    .dataframe thead th {\n",
       "        text-align: right;\n",
       "    }\n",
       "</style>\n",
       "<table border=\"1\" class=\"dataframe\">\n",
       "  <thead>\n",
       "    <tr style=\"text-align: right;\">\n",
       "      <th></th>\n",
       "      <th>CRS_DEP_TIME</th>\n",
       "      <th>CARRIER</th>\n",
       "      <th>DEP_TIME</th>\n",
       "      <th>DEST</th>\n",
       "      <th>DISTANCE</th>\n",
       "      <th>FL_DATE</th>\n",
       "      <th>FL_NUM</th>\n",
       "      <th>ORIGIN</th>\n",
       "      <th>Weather</th>\n",
       "      <th>DAY_WEEK</th>\n",
       "      <th>DAY_OF_MONTH</th>\n",
       "      <th>TAIL_NUM</th>\n",
       "      <th>Flight Status</th>\n",
       "    </tr>\n",
       "  </thead>\n",
       "  <tbody>\n",
       "    <tr>\n",
       "      <th>0</th>\n",
       "      <td>1455</td>\n",
       "      <td>OH</td>\n",
       "      <td>1455</td>\n",
       "      <td>JFK</td>\n",
       "      <td>184</td>\n",
       "      <td>01/01/2004</td>\n",
       "      <td>5935</td>\n",
       "      <td>BWI</td>\n",
       "      <td>0</td>\n",
       "      <td>4</td>\n",
       "      <td>1</td>\n",
       "      <td>N940CA</td>\n",
       "      <td>ontime</td>\n",
       "    </tr>\n",
       "    <tr>\n",
       "      <th>1</th>\n",
       "      <td>1640</td>\n",
       "      <td>DH</td>\n",
       "      <td>1640</td>\n",
       "      <td>JFK</td>\n",
       "      <td>213</td>\n",
       "      <td>01/01/2004</td>\n",
       "      <td>6155</td>\n",
       "      <td>DCA</td>\n",
       "      <td>0</td>\n",
       "      <td>4</td>\n",
       "      <td>1</td>\n",
       "      <td>N405FJ</td>\n",
       "      <td>ontime</td>\n",
       "    </tr>\n",
       "    <tr>\n",
       "      <th>2</th>\n",
       "      <td>1245</td>\n",
       "      <td>DH</td>\n",
       "      <td>1245</td>\n",
       "      <td>LGA</td>\n",
       "      <td>229</td>\n",
       "      <td>01/01/2004</td>\n",
       "      <td>7208</td>\n",
       "      <td>IAD</td>\n",
       "      <td>0</td>\n",
       "      <td>4</td>\n",
       "      <td>1</td>\n",
       "      <td>N695BR</td>\n",
       "      <td>ontime</td>\n",
       "    </tr>\n",
       "    <tr>\n",
       "      <th>3</th>\n",
       "      <td>1715</td>\n",
       "      <td>DH</td>\n",
       "      <td>1709</td>\n",
       "      <td>LGA</td>\n",
       "      <td>229</td>\n",
       "      <td>01/01/2004</td>\n",
       "      <td>7215</td>\n",
       "      <td>IAD</td>\n",
       "      <td>0</td>\n",
       "      <td>4</td>\n",
       "      <td>1</td>\n",
       "      <td>N662BR</td>\n",
       "      <td>ontime</td>\n",
       "    </tr>\n",
       "    <tr>\n",
       "      <th>4</th>\n",
       "      <td>1039</td>\n",
       "      <td>DH</td>\n",
       "      <td>1035</td>\n",
       "      <td>LGA</td>\n",
       "      <td>229</td>\n",
       "      <td>01/01/2004</td>\n",
       "      <td>7792</td>\n",
       "      <td>IAD</td>\n",
       "      <td>0</td>\n",
       "      <td>4</td>\n",
       "      <td>1</td>\n",
       "      <td>N698BR</td>\n",
       "      <td>ontime</td>\n",
       "    </tr>\n",
       "  </tbody>\n",
       "</table>\n",
       "</div>"
      ],
      "text/plain": [
       "   CRS_DEP_TIME CARRIER  DEP_TIME DEST  DISTANCE     FL_DATE  FL_NUM ORIGIN  \\\n",
       "0          1455      OH      1455  JFK       184  01/01/2004    5935    BWI   \n",
       "1          1640      DH      1640  JFK       213  01/01/2004    6155    DCA   \n",
       "2          1245      DH      1245  LGA       229  01/01/2004    7208    IAD   \n",
       "3          1715      DH      1709  LGA       229  01/01/2004    7215    IAD   \n",
       "4          1039      DH      1035  LGA       229  01/01/2004    7792    IAD   \n",
       "\n",
       "   Weather  DAY_WEEK  DAY_OF_MONTH TAIL_NUM Flight Status  \n",
       "0        0         4             1   N940CA        ontime  \n",
       "1        0         4             1   N405FJ        ontime  \n",
       "2        0         4             1   N695BR        ontime  \n",
       "3        0         4             1   N662BR        ontime  \n",
       "4        0         4             1   N698BR        ontime  "
      ]
     },
     "execution_count": 3,
     "metadata": {},
     "output_type": "execute_result"
    }
   ],
   "source": [
    "# See what the dataset looks like\n",
    "data.head()"
   ]
  },
  {
   "cell_type": "code",
   "execution_count": 4,
   "id": "4079aadf",
   "metadata": {
    "id": "4079aadf",
    "outputId": "d389e4b4-362b-4878-e73d-bce285a87a3d"
   },
   "outputs": [
    {
     "data": {
      "text/html": [
       "<div>\n",
       "<style scoped>\n",
       "    .dataframe tbody tr th:only-of-type {\n",
       "        vertical-align: middle;\n",
       "    }\n",
       "\n",
       "    .dataframe tbody tr th {\n",
       "        vertical-align: top;\n",
       "    }\n",
       "\n",
       "    .dataframe thead th {\n",
       "        text-align: right;\n",
       "    }\n",
       "</style>\n",
       "<table border=\"1\" class=\"dataframe\">\n",
       "  <thead>\n",
       "    <tr style=\"text-align: right;\">\n",
       "      <th></th>\n",
       "      <th>CRS_DEP_TIME</th>\n",
       "      <th>DEP_TIME</th>\n",
       "      <th>DISTANCE</th>\n",
       "      <th>FL_NUM</th>\n",
       "      <th>Weather</th>\n",
       "      <th>DAY_WEEK</th>\n",
       "      <th>DAY_OF_MONTH</th>\n",
       "    </tr>\n",
       "  </thead>\n",
       "  <tbody>\n",
       "    <tr>\n",
       "      <th>count</th>\n",
       "      <td>2201.000000</td>\n",
       "      <td>2201.000000</td>\n",
       "      <td>2201.000000</td>\n",
       "      <td>2201.000000</td>\n",
       "      <td>2201.000000</td>\n",
       "      <td>2201.000000</td>\n",
       "      <td>2201.000000</td>\n",
       "    </tr>\n",
       "    <tr>\n",
       "      <th>mean</th>\n",
       "      <td>1371.938664</td>\n",
       "      <td>1369.298955</td>\n",
       "      <td>211.871422</td>\n",
       "      <td>3815.086324</td>\n",
       "      <td>0.014539</td>\n",
       "      <td>3.905498</td>\n",
       "      <td>16.024989</td>\n",
       "    </tr>\n",
       "    <tr>\n",
       "      <th>std</th>\n",
       "      <td>432.697149</td>\n",
       "      <td>442.462754</td>\n",
       "      <td>13.316815</td>\n",
       "      <td>2409.750224</td>\n",
       "      <td>0.119725</td>\n",
       "      <td>1.903149</td>\n",
       "      <td>8.677390</td>\n",
       "    </tr>\n",
       "    <tr>\n",
       "      <th>min</th>\n",
       "      <td>600.000000</td>\n",
       "      <td>10.000000</td>\n",
       "      <td>169.000000</td>\n",
       "      <td>746.000000</td>\n",
       "      <td>0.000000</td>\n",
       "      <td>1.000000</td>\n",
       "      <td>1.000000</td>\n",
       "    </tr>\n",
       "    <tr>\n",
       "      <th>25%</th>\n",
       "      <td>1000.000000</td>\n",
       "      <td>1004.000000</td>\n",
       "      <td>213.000000</td>\n",
       "      <td>2156.000000</td>\n",
       "      <td>0.000000</td>\n",
       "      <td>2.000000</td>\n",
       "      <td>8.000000</td>\n",
       "    </tr>\n",
       "    <tr>\n",
       "      <th>50%</th>\n",
       "      <td>1455.000000</td>\n",
       "      <td>1450.000000</td>\n",
       "      <td>214.000000</td>\n",
       "      <td>2385.000000</td>\n",
       "      <td>0.000000</td>\n",
       "      <td>4.000000</td>\n",
       "      <td>16.000000</td>\n",
       "    </tr>\n",
       "    <tr>\n",
       "      <th>75%</th>\n",
       "      <td>1710.000000</td>\n",
       "      <td>1709.000000</td>\n",
       "      <td>214.000000</td>\n",
       "      <td>6155.000000</td>\n",
       "      <td>0.000000</td>\n",
       "      <td>5.000000</td>\n",
       "      <td>23.000000</td>\n",
       "    </tr>\n",
       "    <tr>\n",
       "      <th>max</th>\n",
       "      <td>2130.000000</td>\n",
       "      <td>2330.000000</td>\n",
       "      <td>229.000000</td>\n",
       "      <td>7924.000000</td>\n",
       "      <td>1.000000</td>\n",
       "      <td>7.000000</td>\n",
       "      <td>31.000000</td>\n",
       "    </tr>\n",
       "  </tbody>\n",
       "</table>\n",
       "</div>"
      ],
      "text/plain": [
       "       CRS_DEP_TIME     DEP_TIME     DISTANCE       FL_NUM      Weather  \\\n",
       "count   2201.000000  2201.000000  2201.000000  2201.000000  2201.000000   \n",
       "mean    1371.938664  1369.298955   211.871422  3815.086324     0.014539   \n",
       "std      432.697149   442.462754    13.316815  2409.750224     0.119725   \n",
       "min      600.000000    10.000000   169.000000   746.000000     0.000000   \n",
       "25%     1000.000000  1004.000000   213.000000  2156.000000     0.000000   \n",
       "50%     1455.000000  1450.000000   214.000000  2385.000000     0.000000   \n",
       "75%     1710.000000  1709.000000   214.000000  6155.000000     0.000000   \n",
       "max     2130.000000  2330.000000   229.000000  7924.000000     1.000000   \n",
       "\n",
       "          DAY_WEEK  DAY_OF_MONTH  \n",
       "count  2201.000000   2201.000000  \n",
       "mean      3.905498     16.024989  \n",
       "std       1.903149      8.677390  \n",
       "min       1.000000      1.000000  \n",
       "25%       2.000000      8.000000  \n",
       "50%       4.000000     16.000000  \n",
       "75%       5.000000     23.000000  \n",
       "max       7.000000     31.000000  "
      ]
     },
     "execution_count": 4,
     "metadata": {},
     "output_type": "execute_result"
    }
   ],
   "source": [
    "data.describe()"
   ]
  },
  {
   "cell_type": "code",
   "execution_count": 5,
   "id": "b922cb45",
   "metadata": {
    "id": "b922cb45",
    "outputId": "3d100adb-d95b-433a-e62e-d22fe58002c5"
   },
   "outputs": [
    {
     "data": {
      "text/plain": [
       "(2201, 13)"
      ]
     },
     "execution_count": 5,
     "metadata": {},
     "output_type": "execute_result"
    }
   ],
   "source": [
    "# View number of (rows, columns) in the dataset\n",
    "data.shape"
   ]
  },
  {
   "cell_type": "code",
   "execution_count": 6,
   "id": "1f4a7d54",
   "metadata": {
    "id": "1f4a7d54",
    "outputId": "e1dabe8c-6537-4b9e-98d5-94605caf6764"
   },
   "outputs": [
    {
     "data": {
      "text/plain": [
       "Index(['CRS_DEP_TIME', 'CARRIER', 'DEP_TIME', 'DEST', 'DISTANCE', 'FL_DATE',\n",
       "       'FL_NUM', 'ORIGIN', 'Weather', 'DAY_WEEK', 'DAY_OF_MONTH', 'TAIL_NUM',\n",
       "       'Flight Status'],\n",
       "      dtype='object')"
      ]
     },
     "execution_count": 6,
     "metadata": {},
     "output_type": "execute_result"
    }
   ],
   "source": [
    "# List all columns in the dataset\n",
    "data.columns"
   ]
  },
  {
   "cell_type": "code",
   "execution_count": 7,
   "id": "a213b11d",
   "metadata": {
    "id": "a213b11d",
    "outputId": "42b79230-a684-4d97-f2f3-aad5f904afbd"
   },
   "outputs": [
    {
     "data": {
      "text/plain": [
       "CRS_DEP_TIME      int64\n",
       "CARRIER          object\n",
       "DEP_TIME          int64\n",
       "DEST             object\n",
       "DISTANCE          int64\n",
       "FL_DATE          object\n",
       "FL_NUM            int64\n",
       "ORIGIN           object\n",
       "Weather           int64\n",
       "DAY_WEEK          int64\n",
       "DAY_OF_MONTH      int64\n",
       "TAIL_NUM         object\n",
       "Flight Status    object\n",
       "dtype: object"
      ]
     },
     "execution_count": 7,
     "metadata": {},
     "output_type": "execute_result"
    }
   ],
   "source": [
    "# View data types of the columns\n",
    "data.dtypes"
   ]
  },
  {
   "cell_type": "code",
   "execution_count": 8,
   "id": "90be45ac",
   "metadata": {
    "id": "90be45ac",
    "outputId": "7b3dc65a-ed04-4818-876e-1abed33f93a2"
   },
   "outputs": [
    {
     "data": {
      "text/plain": [
       "CRS_DEP_TIME     0\n",
       "CARRIER          0\n",
       "DEP_TIME         0\n",
       "DEST             0\n",
       "DISTANCE         0\n",
       "FL_DATE          0\n",
       "FL_NUM           0\n",
       "ORIGIN           0\n",
       "Weather          0\n",
       "DAY_WEEK         0\n",
       "DAY_OF_MONTH     0\n",
       "TAIL_NUM         0\n",
       "Flight Status    0\n",
       "dtype: int64"
      ]
     },
     "execution_count": 8,
     "metadata": {},
     "output_type": "execute_result"
    }
   ],
   "source": [
    "# Check dataframe for missing values\n",
    "data.isna().sum()"
   ]
  },
  {
   "cell_type": "markdown",
   "id": "ac7b040b",
   "metadata": {
    "id": "ac7b040b"
   },
   "source": [
    "There are no missing values"
   ]
  },
  {
   "cell_type": "code",
   "execution_count": 9,
   "id": "1adb525f",
   "metadata": {
    "id": "1adb525f",
    "outputId": "1c8a880e-d514-4325-c1cd-1169309fd25a"
   },
   "outputs": [
    {
     "data": {
      "text/plain": [
       "ontime     1773\n",
       "delayed     428\n",
       "Name: Flight Status, dtype: int64"
      ]
     },
     "execution_count": 9,
     "metadata": {},
     "output_type": "execute_result"
    }
   ],
   "source": [
    "data['Flight Status'].value_counts()"
   ]
  },
  {
   "cell_type": "code",
   "execution_count": 10,
   "id": "3a306ace",
   "metadata": {
    "id": "3a306ace",
    "outputId": "fd413cbe-8345-4cc8-ee3b-c9fc47d6550d"
   },
   "outputs": [
    {
     "data": {
      "image/png": "[encoded data removed]",
      "text/plain": [
       "<Figure size 640x480 with 1 Axes>"
      ]
     },
     "metadata": {},
     "output_type": "display_data"
    }
   ],
   "source": [
    "# Count the number of ontime and delayed flights\n",
    "counts = data['Flight Status'].value_counts()\n",
    "\n",
    "# Create a bar chart with the counts\n",
    "plt.bar(counts.index, counts.values, color=['lightgreen', 'darkgreen'])\n",
    "\n",
    "# Add labels and title\n",
    "plt.xlabel('Flight Status')\n",
    "plt.ylabel('Count')\n",
    "plt.title('Flight Status Counts')\n",
    "\n",
    "# Show the plot\n",
    "plt.show()"
   ]
  },
  {
   "cell_type": "markdown",
   "id": "623f1b7e",
   "metadata": {},
   "source": [
    "We observe that the dataset is imbalanced where ontime and delayed flights have a 80:20 split, respectively. Therefore, we'll balance the dataset by oversampling the minority class ('delayed') before training our models in order to improve performance."
   ]
  },
  {
   "cell_type": "code",
   "execution_count": 11,
   "id": "d0a4ea41",
   "metadata": {
    "id": "d0a4ea41",
    "outputId": "a0e5b642-5e77-452b-c9a5-6dc589e99ff6"
   },
   "outputs": [
    {
     "data": {
      "image/png": "[encoded data removed]",
      "text/plain": [
       "<Figure size 640x480 with 1 Axes>"
      ]
     },
     "metadata": {},
     "output_type": "display_data"
    }
   ],
   "source": [
    "# Count the number of ontime and delayed flights by day of the week\n",
    "counts_ontime = data[data['Flight Status'] == 'ontime'].groupby('DAY_WEEK').size()\n",
    "counts_delayed = data[data['Flight Status'] == 'delayed'].groupby('DAY_WEEK').size()\n",
    "\n",
    "# Create a line graph with the counts\n",
    "plt.plot(counts_ontime.index, counts_ontime.values, color='lightgreen')\n",
    "plt.plot(counts_delayed.index, counts_delayed.values, color='darkgreen')\n",
    "\n",
    "# Add labels and title\n",
    "plt.xlabel('Day of the Week')\n",
    "plt.ylabel('Count')\n",
    "plt.title('Flight Status by Day of the Week')\n",
    "\n",
    "# Add legend\n",
    "plt.legend(['ontime', 'delayed'])\n",
    "\n",
    "# Show the plot\n",
    "plt.show()"
   ]
  },
  {
   "cell_type": "markdown",
   "id": "58026197",
   "metadata": {
    "id": "58026197"
   },
   "source": [
    "We can see that Thursdays and Fridays are the days with the highest amount of flights ontime. On the other hand, the days with the highest amount of delayed flights are Monday, Fridays and Sundays."
   ]
  },
  {
   "cell_type": "code",
   "execution_count": 12,
   "id": "e3659601",
   "metadata": {
    "id": "e3659601",
    "outputId": "86c64102-ebef-46df-f704-7378979ede87",
    "scrolled": false
   },
   "outputs": [
    {
     "data": {
      "image/png": "[encoded data removed]",
      "text/plain": [
       "<Figure size 1200x600 with 1 Axes>"
      ]
     },
     "metadata": {},
     "output_type": "display_data"
    }
   ],
   "source": [
    "# Count the number of ontime and delayed flights by day of the week\n",
    "counts_ontime = data[data['Flight Status'] == 'ontime'].groupby('DAY_OF_MONTH').size()\n",
    "counts_delayed = data[data['Flight Status'] == 'delayed'].groupby('DAY_OF_MONTH').size()\n",
    "\n",
    "# Create a figure with a larger size\n",
    "fig = plt.figure(figsize=(12, 6))\n",
    "\n",
    "# Create a line graph with the counts\n",
    "plt.plot(counts_ontime.index, counts_ontime.values, color='lightgreen')\n",
    "plt.plot(counts_delayed.index, counts_delayed.values, color='darkgreen')\n",
    "\n",
    "# Add labels and title\n",
    "plt.xlabel('Day of the Month')\n",
    "plt.ylabel('Count')\n",
    "plt.title('Flight Status by Day of the Month')\n",
    "\n",
    "# Add legend\n",
    "plt.legend(['ontime', 'delayed'])\n",
    "\n",
    "# Set x-ticks\n",
    "plt.xticks(range(0, 31))\n",
    "\n",
    "# Add grid lines\n",
    "plt.grid(True)\n",
    "\n",
    "# Show the plot\n",
    "plt.show()"
   ]
  },
  {
   "cell_type": "markdown",
   "id": "75fe376b",
   "metadata": {
    "id": "75fe376b"
   },
   "source": [
    "We can see that the days of the month with the highest amount delayed flights are day 5, 16, 18 and 26 of each month."
   ]
  },
  {
   "cell_type": "code",
   "execution_count": 13,
   "id": "6564eae3",
   "metadata": {
    "id": "6564eae3",
    "outputId": "5cf7bceb-aa9d-43e4-833a-aac4fcd4b431"
   },
   "outputs": [
    {
     "data": {
      "image/png": "[encoded data removed]",
      "text/plain": [
       "<Figure size 640x480 with 1 Axes>"
      ]
     },
     "metadata": {},
     "output_type": "display_data"
    }
   ],
   "source": [
    "# Count the number of ontime and delayed flights by day of the week\n",
    "counts_ontime = data[data['Flight Status'] == 'ontime'].groupby('ORIGIN').size()\n",
    "counts_delayed = data[data['Flight Status'] == 'delayed'].groupby('ORIGIN').size()\n",
    "\n",
    "# Create a line graph with the counts\n",
    "plt.plot(counts_ontime.index, counts_ontime.values, color='lightgreen')\n",
    "plt.plot(counts_delayed.index, counts_delayed.values, color='darkgreen')\n",
    "\n",
    "# Add labels and title\n",
    "plt.xlabel('Origin')\n",
    "plt.ylabel('Count')\n",
    "plt.title('Flight Status by Origin')\n",
    "\n",
    "# Add legend\n",
    "plt.legend(['ontime', 'delayed'])\n",
    "\n",
    "# Add grid lines\n",
    "plt.grid(True)\n",
    "\n",
    "# Show the plot\n",
    "plt.show()"
   ]
  },
  {
   "cell_type": "markdown",
   "id": "3dc15431",
   "metadata": {
    "id": "3dc15431"
   },
   "source": [
    "Ronald Reagan Washington National Airport also known as DCA, is not only the origin airport with the highest amount of ontime flights but also of delayed flights."
   ]
  },
  {
   "cell_type": "code",
   "execution_count": 14,
   "id": "91830542",
   "metadata": {
    "id": "91830542",
    "outputId": "6eb196b3-a39d-49f5-aca4-71b83b5d1d48",
    "scrolled": false
   },
   "outputs": [
    {
     "data": {
      "image/png": "[encoded data removed]",
      "text/plain": [
       "<Figure size 640x480 with 1 Axes>"
      ]
     },
     "metadata": {},
     "output_type": "display_data"
    }
   ],
   "source": [
    "# Count the number of ontime and delayed flights by day of the week\n",
    "counts_ontime = data[data['Flight Status'] == 'ontime'].groupby('DEST').size()\n",
    "counts_delayed = data[data['Flight Status'] == 'delayed'].groupby('DEST').size()\n",
    "\n",
    "# Create a line graph with the counts\n",
    "plt.plot(counts_ontime.index, counts_ontime.values, color='lightgreen')\n",
    "plt.plot(counts_delayed.index, counts_delayed.values, color='darkgreen')\n",
    "\n",
    "# Add labels and title\n",
    "plt.xlabel('Destination')\n",
    "plt.ylabel('Count')\n",
    "plt.title('Flight Status by Destination')\n",
    "\n",
    "# Add legend\n",
    "plt.legend(['ontime', 'delayed'])\n",
    "\n",
    "# Add grid lines\n",
    "plt.grid(True)\n",
    "\n",
    "# Show the plot\n",
    "plt.show()"
   ]
  },
  {
   "cell_type": "markdown",
   "id": "9a4ee7ab",
   "metadata": {
    "id": "9a4ee7ab"
   },
   "source": [
    "LaGuardia Airport also known as LGA, is not only the destination airport with the highest amount of ontime flights but also of delayed flights."
   ]
  },
  {
   "cell_type": "markdown",
   "id": "f8959b77",
   "metadata": {
    "id": "f8959b77"
   },
   "source": [
    "# Balancing the dataset by oversampling the minority class ('delayed')"
   ]
  },
  {
   "cell_type": "code",
   "execution_count": 15,
   "id": "a117731b",
   "metadata": {
    "id": "a117731b",
    "outputId": "6e5c40d2-ced0-483b-e532-ca29710d8090"
   },
   "outputs": [
    {
     "data": {
      "text/html": [
       "<div>\n",
       "<style scoped>\n",
       "    .dataframe tbody tr th:only-of-type {\n",
       "        vertical-align: middle;\n",
       "    }\n",
       "\n",
       "    .dataframe tbody tr th {\n",
       "        vertical-align: top;\n",
       "    }\n",
       "\n",
       "    .dataframe thead th {\n",
       "        text-align: right;\n",
       "    }\n",
       "</style>\n",
       "<table border=\"1\" class=\"dataframe\">\n",
       "  <thead>\n",
       "    <tr style=\"text-align: right;\">\n",
       "      <th></th>\n",
       "      <th>CRS_DEP_TIME</th>\n",
       "      <th>CARRIER</th>\n",
       "      <th>DEP_TIME</th>\n",
       "      <th>DEST</th>\n",
       "      <th>DISTANCE</th>\n",
       "      <th>FL_DATE</th>\n",
       "      <th>FL_NUM</th>\n",
       "      <th>ORIGIN</th>\n",
       "      <th>Weather</th>\n",
       "      <th>DAY_WEEK</th>\n",
       "      <th>DAY_OF_MONTH</th>\n",
       "      <th>TAIL_NUM</th>\n",
       "      <th>Flight Status</th>\n",
       "    </tr>\n",
       "  </thead>\n",
       "  <tbody>\n",
       "    <tr>\n",
       "      <th>363</th>\n",
       "      <td>2100</td>\n",
       "      <td>US</td>\n",
       "      <td>2104</td>\n",
       "      <td>LGA</td>\n",
       "      <td>214</td>\n",
       "      <td>01/06/2004</td>\n",
       "      <td>2188</td>\n",
       "      <td>DCA</td>\n",
       "      <td>0</td>\n",
       "      <td>2</td>\n",
       "      <td>6</td>\n",
       "      <td>N733UW</td>\n",
       "      <td>ontime</td>\n",
       "    </tr>\n",
       "    <tr>\n",
       "      <th>1063</th>\n",
       "      <td>1720</td>\n",
       "      <td>RU</td>\n",
       "      <td>1811</td>\n",
       "      <td>EWR</td>\n",
       "      <td>169</td>\n",
       "      <td>1/15/2004</td>\n",
       "      <td>3372</td>\n",
       "      <td>BWI</td>\n",
       "      <td>0</td>\n",
       "      <td>4</td>\n",
       "      <td>15</td>\n",
       "      <td>N17560</td>\n",
       "      <td>delayed</td>\n",
       "    </tr>\n",
       "    <tr>\n",
       "      <th>1691</th>\n",
       "      <td>1715</td>\n",
       "      <td>DH</td>\n",
       "      <td>1715</td>\n",
       "      <td>JFK</td>\n",
       "      <td>228</td>\n",
       "      <td>1/24/2004</td>\n",
       "      <td>7812</td>\n",
       "      <td>IAD</td>\n",
       "      <td>0</td>\n",
       "      <td>6</td>\n",
       "      <td>24</td>\n",
       "      <td>N312UE</td>\n",
       "      <td>delayed</td>\n",
       "    </tr>\n",
       "    <tr>\n",
       "      <th>1295</th>\n",
       "      <td>800</td>\n",
       "      <td>MQ</td>\n",
       "      <td>822</td>\n",
       "      <td>LGA</td>\n",
       "      <td>214</td>\n",
       "      <td>1/19/2004</td>\n",
       "      <td>4954</td>\n",
       "      <td>DCA</td>\n",
       "      <td>0</td>\n",
       "      <td>1</td>\n",
       "      <td>19</td>\n",
       "      <td>N717MQ</td>\n",
       "      <td>delayed</td>\n",
       "    </tr>\n",
       "    <tr>\n",
       "      <th>1476</th>\n",
       "      <td>700</td>\n",
       "      <td>US</td>\n",
       "      <td>659</td>\n",
       "      <td>LGA</td>\n",
       "      <td>214</td>\n",
       "      <td>1/21/2004</td>\n",
       "      <td>2160</td>\n",
       "      <td>DCA</td>\n",
       "      <td>0</td>\n",
       "      <td>3</td>\n",
       "      <td>21</td>\n",
       "      <td>N713UW</td>\n",
       "      <td>ontime</td>\n",
       "    </tr>\n",
       "  </tbody>\n",
       "</table>\n",
       "</div>"
      ],
      "text/plain": [
       "      CRS_DEP_TIME CARRIER  DEP_TIME DEST  DISTANCE     FL_DATE  FL_NUM  \\\n",
       "363           2100      US      2104  LGA       214  01/06/2004    2188   \n",
       "1063          1720      RU      1811  EWR       169   1/15/2004    3372   \n",
       "1691          1715      DH      1715  JFK       228   1/24/2004    7812   \n",
       "1295           800      MQ       822  LGA       214   1/19/2004    4954   \n",
       "1476           700      US       659  LGA       214   1/21/2004    2160   \n",
       "\n",
       "     ORIGIN  Weather  DAY_WEEK  DAY_OF_MONTH TAIL_NUM Flight Status  \n",
       "363     DCA        0         2             6   N733UW        ontime  \n",
       "1063    BWI        0         4            15   N17560       delayed  \n",
       "1691    IAD        0         6            24   N312UE       delayed  \n",
       "1295    DCA        0         1            19   N717MQ       delayed  \n",
       "1476    DCA        0         3            21   N713UW        ontime  "
      ]
     },
     "execution_count": 15,
     "metadata": {},
     "output_type": "execute_result"
    }
   ],
   "source": [
    "# Select all records classified as 'yes'\n",
    "yes_df = data[data['Flight Status'] == 'ontime']\n",
    "\n",
    "# Select all records classified as 'no'\n",
    "no_df = data[data['Flight Status'] == 'delayed']\n",
    "\n",
    "# Randomly select an equal number of records classified as 'no'\n",
    "num_yes = len(yes_df)\n",
    "no_df_sampled = no_df.sample(n=num_yes, replace=True, random_state=42)  # using a fixed random state for reproducibility\n",
    "\n",
    "# Combine the selected 'yes' and 'no' records into a single DataFrame\n",
    "final_df = pd.concat([yes_df, no_df_sampled])\n",
    "\n",
    "# Shuffle the order of the rows in the DataFrame\n",
    "final_df = final_df.sample(frac=1, random_state=42)  # using a fixed random state for reproducibility\n",
    "\n",
    "# Print the first few rows of the final DataFrame to verify the results\n",
    "final_df.head()"
   ]
  },
  {
   "cell_type": "code",
   "execution_count": 16,
   "id": "75244af6",
   "metadata": {
    "id": "75244af6",
    "outputId": "356f9add-e4e7-463a-fec8-22fbad41d928",
    "scrolled": true
   },
   "outputs": [
    {
     "data": {
      "text/plain": [
       "ontime     1773\n",
       "delayed    1773\n",
       "Name: Flight Status, dtype: int64"
      ]
     },
     "execution_count": 16,
     "metadata": {},
     "output_type": "execute_result"
    }
   ],
   "source": [
    "final_df['Flight Status'].value_counts()"
   ]
  },
  {
   "cell_type": "code",
   "execution_count": 17,
   "id": "6e3eed04",
   "metadata": {
    "id": "6e3eed04",
    "outputId": "9c97b256-885e-478f-ca25-140fa90aa523",
    "scrolled": true
   },
   "outputs": [
    {
     "data": {
      "text/html": [
       "<div>\n",
       "<style scoped>\n",
       "    .dataframe tbody tr th:only-of-type {\n",
       "        vertical-align: middle;\n",
       "    }\n",
       "\n",
       "    .dataframe tbody tr th {\n",
       "        vertical-align: top;\n",
       "    }\n",
       "\n",
       "    .dataframe thead th {\n",
       "        text-align: right;\n",
       "    }\n",
       "</style>\n",
       "<table border=\"1\" class=\"dataframe\">\n",
       "  <thead>\n",
       "    <tr style=\"text-align: right;\">\n",
       "      <th></th>\n",
       "      <th>CRS_DEP_TIME</th>\n",
       "      <th>CARRIER</th>\n",
       "      <th>DEP_TIME</th>\n",
       "      <th>DEST</th>\n",
       "      <th>DISTANCE</th>\n",
       "      <th>FL_DATE</th>\n",
       "      <th>FL_NUM</th>\n",
       "      <th>ORIGIN</th>\n",
       "      <th>Weather</th>\n",
       "      <th>DAY_WEEK</th>\n",
       "      <th>DAY_OF_MONTH</th>\n",
       "      <th>TAIL_NUM</th>\n",
       "      <th>Flight Status</th>\n",
       "    </tr>\n",
       "  </thead>\n",
       "  <tbody>\n",
       "    <tr>\n",
       "      <th>363</th>\n",
       "      <td>2100</td>\n",
       "      <td>US</td>\n",
       "      <td>2104</td>\n",
       "      <td>LGA</td>\n",
       "      <td>214</td>\n",
       "      <td>01/06/2004</td>\n",
       "      <td>2188</td>\n",
       "      <td>DCA</td>\n",
       "      <td>0</td>\n",
       "      <td>2</td>\n",
       "      <td>6</td>\n",
       "      <td>N733UW</td>\n",
       "      <td>ontime</td>\n",
       "    </tr>\n",
       "    <tr>\n",
       "      <th>1063</th>\n",
       "      <td>1720</td>\n",
       "      <td>RU</td>\n",
       "      <td>1811</td>\n",
       "      <td>EWR</td>\n",
       "      <td>169</td>\n",
       "      <td>1/15/2004</td>\n",
       "      <td>3372</td>\n",
       "      <td>BWI</td>\n",
       "      <td>0</td>\n",
       "      <td>4</td>\n",
       "      <td>15</td>\n",
       "      <td>N17560</td>\n",
       "      <td>delayed</td>\n",
       "    </tr>\n",
       "    <tr>\n",
       "      <th>1691</th>\n",
       "      <td>1715</td>\n",
       "      <td>DH</td>\n",
       "      <td>1715</td>\n",
       "      <td>JFK</td>\n",
       "      <td>228</td>\n",
       "      <td>1/24/2004</td>\n",
       "      <td>7812</td>\n",
       "      <td>IAD</td>\n",
       "      <td>0</td>\n",
       "      <td>6</td>\n",
       "      <td>24</td>\n",
       "      <td>N312UE</td>\n",
       "      <td>delayed</td>\n",
       "    </tr>\n",
       "    <tr>\n",
       "      <th>1295</th>\n",
       "      <td>800</td>\n",
       "      <td>MQ</td>\n",
       "      <td>822</td>\n",
       "      <td>LGA</td>\n",
       "      <td>214</td>\n",
       "      <td>1/19/2004</td>\n",
       "      <td>4954</td>\n",
       "      <td>DCA</td>\n",
       "      <td>0</td>\n",
       "      <td>1</td>\n",
       "      <td>19</td>\n",
       "      <td>N717MQ</td>\n",
       "      <td>delayed</td>\n",
       "    </tr>\n",
       "    <tr>\n",
       "      <th>1476</th>\n",
       "      <td>700</td>\n",
       "      <td>US</td>\n",
       "      <td>659</td>\n",
       "      <td>LGA</td>\n",
       "      <td>214</td>\n",
       "      <td>1/21/2004</td>\n",
       "      <td>2160</td>\n",
       "      <td>DCA</td>\n",
       "      <td>0</td>\n",
       "      <td>3</td>\n",
       "      <td>21</td>\n",
       "      <td>N713UW</td>\n",
       "      <td>ontime</td>\n",
       "    </tr>\n",
       "  </tbody>\n",
       "</table>\n",
       "</div>"
      ],
      "text/plain": [
       "      CRS_DEP_TIME CARRIER  DEP_TIME DEST  DISTANCE     FL_DATE  FL_NUM  \\\n",
       "363           2100      US      2104  LGA       214  01/06/2004    2188   \n",
       "1063          1720      RU      1811  EWR       169   1/15/2004    3372   \n",
       "1691          1715      DH      1715  JFK       228   1/24/2004    7812   \n",
       "1295           800      MQ       822  LGA       214   1/19/2004    4954   \n",
       "1476           700      US       659  LGA       214   1/21/2004    2160   \n",
       "\n",
       "     ORIGIN  Weather  DAY_WEEK  DAY_OF_MONTH TAIL_NUM Flight Status  \n",
       "363     DCA        0         2             6   N733UW        ontime  \n",
       "1063    BWI        0         4            15   N17560       delayed  \n",
       "1691    IAD        0         6            24   N312UE       delayed  \n",
       "1295    DCA        0         1            19   N717MQ       delayed  \n",
       "1476    DCA        0         3            21   N713UW        ontime  "
      ]
     },
     "execution_count": 17,
     "metadata": {},
     "output_type": "execute_result"
    }
   ],
   "source": [
    "final_df.head()"
   ]
  },
  {
   "cell_type": "code",
   "execution_count": 18,
   "id": "1a8203a7",
   "metadata": {
    "id": "1875c110",
    "outputId": "9e4bab68-6da6-4a46-8f35-9a8ce2d5394e"
   },
   "outputs": [
    {
     "data": {
      "image/png": "[encoded data removed]",
      "text/plain": [
       "<Figure size 640x480 with 1 Axes>"
      ]
     },
     "metadata": {},
     "output_type": "display_data"
    }
   ],
   "source": [
    "# Count the number of ontime and delayed flights\n",
    "counts = final_df['Flight Status'].value_counts()\n",
    "\n",
    "# Create a bar chart with the counts\n",
    "plt.bar(counts.index, counts.values, color=['lightgreen', 'darkgreen'])\n",
    "\n",
    "# Add labels and title\n",
    "plt.xlabel('Flight Status')\n",
    "plt.ylabel('Count')\n",
    "plt.title('Flight Status Counts')\n",
    "\n",
    "# Show the plot\n",
    "plt.show()"
   ]
  },
  {
   "cell_type": "markdown",
   "id": "44e740e8",
   "metadata": {},
   "source": [
    "The dataset is now equally balanced between the two classes."
   ]
  },
  {
   "cell_type": "markdown",
   "id": "65325ed6",
   "metadata": {
    "id": "65325ed6"
   },
   "source": [
    "# K-NN"
   ]
  },
  {
   "cell_type": "code",
   "execution_count": 19,
   "id": "4ce8ab9c",
   "metadata": {
    "id": "4ce8ab9c"
   },
   "outputs": [
    {
     "data": {
      "text/plain": [
       "Index(['CRS_DEP_TIME', 'CARRIER', 'DEP_TIME', 'DEST', 'DISTANCE', 'FL_DATE',\n",
       "       'FL_NUM', 'ORIGIN', 'Weather', 'DAY_WEEK', 'DAY_OF_MONTH', 'TAIL_NUM',\n",
       "       'Flight Status'],\n",
       "      dtype='object')"
      ]
     },
     "execution_count": 19,
     "metadata": {},
     "output_type": "execute_result"
    }
   ],
   "source": [
    "final_df.columns"
   ]
  },
  {
   "cell_type": "code",
   "execution_count": 20,
   "id": "3483060e",
   "metadata": {},
   "outputs": [
    {
     "data": {
      "text/plain": [
       "CategoricalDtype(categories=[1, 2, 3, 4, 5, 6, 7], ordered=False)"
      ]
     },
     "execution_count": 20,
     "metadata": {},
     "output_type": "execute_result"
    }
   ],
   "source": [
    "#Convert the day_week column from numerical into categorical data\n",
    "final_df.DAY_WEEK = final_df.DAY_WEEK.astype('category')\n",
    "final_df.DAY_WEEK.dtype"
   ]
  },
  {
   "cell_type": "code",
   "execution_count": 21,
   "id": "07d7fb1f",
   "metadata": {},
   "outputs": [
    {
     "name": "stdout",
     "output_type": "stream",
     "text": [
      "RangeIndex(start=6, stop=24, step=1)\n"
     ]
    }
   ],
   "source": [
    "#bin the times from 6 a.m. (600 hrs) to 11:59 a.m.(2400)\n",
    "final_df['CRS_DEP_HOUR'] = [round(t/100) for t in final_df['CRS_DEP_TIME']]\n",
    "final_df['CRS_DEP_HOUR_CAT'] = pd.cut(final_df['CRS_DEP_HOUR'], bins=range(6, 25), labels=range(6, 24), include_lowest=True).astype('category')\n",
    "print(final_df['CRS_DEP_HOUR_CAT'].cat.categories)"
   ]
  },
  {
   "cell_type": "code",
   "execution_count": 22,
   "id": "928de22a",
   "metadata": {},
   "outputs": [],
   "source": [
    "predictors = ['DAY_WEEK','CRS_DEP_HOUR_CAT','ORIGIN','DEST','CARRIER', 'Weather']\n",
    "X = pd.get_dummies(final_df[predictors])\n",
    "y = final_df['Flight Status']"
   ]
  },
  {
   "cell_type": "code",
   "execution_count": 23,
   "id": "284bc2d8",
   "metadata": {},
   "outputs": [
    {
     "data": {
      "text/plain": [
       "Index(['Weather', 'DAY_WEEK_1', 'DAY_WEEK_2', 'DAY_WEEK_3', 'DAY_WEEK_4',\n",
       "       'DAY_WEEK_5', 'DAY_WEEK_6', 'DAY_WEEK_7', 'CRS_DEP_HOUR_CAT_6',\n",
       "       'CRS_DEP_HOUR_CAT_7', 'CRS_DEP_HOUR_CAT_8', 'CRS_DEP_HOUR_CAT_9',\n",
       "       'CRS_DEP_HOUR_CAT_10', 'CRS_DEP_HOUR_CAT_11', 'CRS_DEP_HOUR_CAT_12',\n",
       "       'CRS_DEP_HOUR_CAT_13', 'CRS_DEP_HOUR_CAT_14', 'CRS_DEP_HOUR_CAT_15',\n",
       "       'CRS_DEP_HOUR_CAT_16', 'CRS_DEP_HOUR_CAT_17', 'CRS_DEP_HOUR_CAT_18',\n",
       "       'CRS_DEP_HOUR_CAT_19', 'CRS_DEP_HOUR_CAT_20', 'CRS_DEP_HOUR_CAT_21',\n",
       "       'CRS_DEP_HOUR_CAT_22', 'CRS_DEP_HOUR_CAT_23', 'ORIGIN_BWI',\n",
       "       'ORIGIN_DCA', 'ORIGIN_IAD', 'DEST_EWR', 'DEST_JFK', 'DEST_LGA',\n",
       "       'CARRIER_CO', 'CARRIER_DH', 'CARRIER_DL', 'CARRIER_MQ', 'CARRIER_OH',\n",
       "       'CARRIER_RU', 'CARRIER_UA', 'CARRIER_US'],\n",
       "      dtype='object')"
      ]
     },
     "execution_count": 23,
     "metadata": {},
     "output_type": "execute_result"
    }
   ],
   "source": [
    "X.columns"
   ]
  },
  {
   "cell_type": "code",
   "execution_count": 24,
   "id": "f1739a83",
   "metadata": {},
   "outputs": [],
   "source": [
    "# Split data into training and testing sets\n",
    "train_X, valid_X, train_y , valid_y = train_test_split(X, y, test_size=0.4, random_state=1)"
   ]
  },
  {
   "cell_type": "code",
   "execution_count": 25,
   "id": "df3698b9",
   "metadata": {
    "scrolled": false
   },
   "outputs": [
    {
     "name": "stdout",
     "output_type": "stream",
     "text": [
      "     k  accuracy\n",
      "0    1  0.722340\n",
      "1    2  0.716702\n",
      "2    3  0.718111\n",
      "3    4  0.698379\n",
      "4    5  0.713883\n",
      "5    6  0.701903\n",
      "6    7  0.724454\n",
      "7    8  0.706131\n",
      "8    9  0.711064\n",
      "9   10  0.701198\n",
      "10  11  0.697674\n",
      "11  12  0.696970\n",
      "12  13  0.689218\n",
      "13  14  0.698379\n"
     ]
    }
   ],
   "source": [
    "results = []\n",
    "for k in range(1,15):\n",
    "    knn = KNeighborsClassifier(n_neighbors=k).fit(train_X, train_y)\n",
    "    results.append({\n",
    "        'k':k,\n",
    "        'accuracy': accuracy_score(valid_y, knn.predict(valid_X))\n",
    "    })\n",
    "\n",
    "results = pd.DataFrame(results)\n",
    "print(results)"
   ]
  },
  {
   "cell_type": "markdown",
   "id": "9e6e08d2",
   "metadata": {},
   "source": [
    "In the code above, different values of K were tested (from 1 to 14) using the training data to check the best accuracy result. From the table above it is showed that k=5 has the best accuracy result, so that is the K value that will be used in the definitive model training, as it can be seen in the code below:"
   ]
  },
  {
   "cell_type": "code",
   "execution_count": 26,
   "id": "d80f6738",
   "metadata": {
    "scrolled": true
   },
   "outputs": [
    {
     "data": {
      "text/plain": [
       "KNeighborsClassifier()"
      ]
     },
     "execution_count": 26,
     "metadata": {},
     "output_type": "execute_result"
    }
   ],
   "source": [
    "knn = KNeighborsClassifier(n_neighbors=5)\n",
    "knn.fit(train_X, train_y)"
   ]
  },
  {
   "cell_type": "markdown",
   "id": "644cc92d",
   "metadata": {},
   "source": [
    "In the code below, the validation part of the dataset is used in the model to get the classification predictions as result."
   ]
  },
  {
   "cell_type": "code",
   "execution_count": 27,
   "id": "bc3b2373",
   "metadata": {
    "scrolled": false
   },
   "outputs": [],
   "source": [
    "y_pred = knn.predict(valid_X)"
   ]
  },
  {
   "cell_type": "code",
   "execution_count": 28,
   "id": "7af68201",
   "metadata": {
    "scrolled": true
   },
   "outputs": [
    {
     "name": "stdout",
     "output_type": "stream",
     "text": [
      "              precision    recall  f1-score   support\n",
      "\n",
      "     delayed       0.66      0.86      0.75       703\n",
      "      ontime       0.81      0.57      0.67       716\n",
      "\n",
      "    accuracy                           0.71      1419\n",
      "   macro avg       0.73      0.72      0.71      1419\n",
      "weighted avg       0.74      0.71      0.71      1419\n",
      "\n"
     ]
    }
   ],
   "source": [
    "print(classification_report(valid_y, y_pred))"
   ]
  },
  {
   "cell_type": "code",
   "execution_count": 29,
   "id": "d03480ef",
   "metadata": {},
   "outputs": [
    {
     "name": "stdout",
     "output_type": "stream",
     "text": [
      "Confusion Matrix (Accuracy 0.7139)\n",
      "\n",
      "       Prediction\n",
      "Actual   0   1\n",
      "     0 605  98\n",
      "     1 308 408\n"
     ]
    }
   ],
   "source": [
    "classificationSummary(valid_y, y_pred)"
   ]
  },
  {
   "cell_type": "markdown",
   "id": "e8a3dd8f",
   "metadata": {},
   "source": [
    "After running the model and getting the classification predictions as result, this output was compared with the real classification values, and the result of this comparison is showed in the report above, in which it is demonstrated that the model has a 71% accuracy in the classification task."
   ]
  },
  {
   "cell_type": "markdown",
   "id": "a13ea77f",
   "metadata": {
    "id": "a13ea77f"
   },
   "source": [
    "# Naive Bayes"
   ]
  },
  {
   "cell_type": "code",
   "execution_count": 30,
   "id": "32c6dc7e",
   "metadata": {
    "id": "32c6dc7e",
    "scrolled": true
   },
   "outputs": [
    {
     "data": {
      "text/html": [
       "<div>\n",
       "<style scoped>\n",
       "    .dataframe tbody tr th:only-of-type {\n",
       "        vertical-align: middle;\n",
       "    }\n",
       "\n",
       "    .dataframe tbody tr th {\n",
       "        vertical-align: top;\n",
       "    }\n",
       "\n",
       "    .dataframe thead th {\n",
       "        text-align: right;\n",
       "    }\n",
       "</style>\n",
       "<table border=\"1\" class=\"dataframe\">\n",
       "  <thead>\n",
       "    <tr style=\"text-align: right;\">\n",
       "      <th></th>\n",
       "      <th>CRS_DEP_TIME</th>\n",
       "      <th>CARRIER</th>\n",
       "      <th>DEP_TIME</th>\n",
       "      <th>DEST</th>\n",
       "      <th>DISTANCE</th>\n",
       "      <th>FL_DATE</th>\n",
       "      <th>FL_NUM</th>\n",
       "      <th>ORIGIN</th>\n",
       "      <th>Weather</th>\n",
       "      <th>DAY_WEEK</th>\n",
       "      <th>DAY_OF_MONTH</th>\n",
       "      <th>TAIL_NUM</th>\n",
       "      <th>Flight Status</th>\n",
       "      <th>CRS_DEP_HOUR</th>\n",
       "      <th>CRS_DEP_HOUR_CAT</th>\n",
       "    </tr>\n",
       "  </thead>\n",
       "  <tbody>\n",
       "    <tr>\n",
       "      <th>363</th>\n",
       "      <td>2100</td>\n",
       "      <td>US</td>\n",
       "      <td>2104</td>\n",
       "      <td>LGA</td>\n",
       "      <td>214</td>\n",
       "      <td>01/06/2004</td>\n",
       "      <td>2188</td>\n",
       "      <td>DCA</td>\n",
       "      <td>0</td>\n",
       "      <td>2</td>\n",
       "      <td>6</td>\n",
       "      <td>N733UW</td>\n",
       "      <td>ontime</td>\n",
       "      <td>21</td>\n",
       "      <td>20</td>\n",
       "    </tr>\n",
       "    <tr>\n",
       "      <th>1063</th>\n",
       "      <td>1720</td>\n",
       "      <td>RU</td>\n",
       "      <td>1811</td>\n",
       "      <td>EWR</td>\n",
       "      <td>169</td>\n",
       "      <td>1/15/2004</td>\n",
       "      <td>3372</td>\n",
       "      <td>BWI</td>\n",
       "      <td>0</td>\n",
       "      <td>4</td>\n",
       "      <td>15</td>\n",
       "      <td>N17560</td>\n",
       "      <td>delayed</td>\n",
       "      <td>17</td>\n",
       "      <td>16</td>\n",
       "    </tr>\n",
       "    <tr>\n",
       "      <th>1691</th>\n",
       "      <td>1715</td>\n",
       "      <td>DH</td>\n",
       "      <td>1715</td>\n",
       "      <td>JFK</td>\n",
       "      <td>228</td>\n",
       "      <td>1/24/2004</td>\n",
       "      <td>7812</td>\n",
       "      <td>IAD</td>\n",
       "      <td>0</td>\n",
       "      <td>6</td>\n",
       "      <td>24</td>\n",
       "      <td>N312UE</td>\n",
       "      <td>delayed</td>\n",
       "      <td>17</td>\n",
       "      <td>16</td>\n",
       "    </tr>\n",
       "    <tr>\n",
       "      <th>1295</th>\n",
       "      <td>800</td>\n",
       "      <td>MQ</td>\n",
       "      <td>822</td>\n",
       "      <td>LGA</td>\n",
       "      <td>214</td>\n",
       "      <td>1/19/2004</td>\n",
       "      <td>4954</td>\n",
       "      <td>DCA</td>\n",
       "      <td>0</td>\n",
       "      <td>1</td>\n",
       "      <td>19</td>\n",
       "      <td>N717MQ</td>\n",
       "      <td>delayed</td>\n",
       "      <td>8</td>\n",
       "      <td>7</td>\n",
       "    </tr>\n",
       "    <tr>\n",
       "      <th>1476</th>\n",
       "      <td>700</td>\n",
       "      <td>US</td>\n",
       "      <td>659</td>\n",
       "      <td>LGA</td>\n",
       "      <td>214</td>\n",
       "      <td>1/21/2004</td>\n",
       "      <td>2160</td>\n",
       "      <td>DCA</td>\n",
       "      <td>0</td>\n",
       "      <td>3</td>\n",
       "      <td>21</td>\n",
       "      <td>N713UW</td>\n",
       "      <td>ontime</td>\n",
       "      <td>7</td>\n",
       "      <td>6</td>\n",
       "    </tr>\n",
       "  </tbody>\n",
       "</table>\n",
       "</div>"
      ],
      "text/plain": [
       "      CRS_DEP_TIME CARRIER  DEP_TIME DEST  DISTANCE     FL_DATE  FL_NUM  \\\n",
       "363           2100      US      2104  LGA       214  01/06/2004    2188   \n",
       "1063          1720      RU      1811  EWR       169   1/15/2004    3372   \n",
       "1691          1715      DH      1715  JFK       228   1/24/2004    7812   \n",
       "1295           800      MQ       822  LGA       214   1/19/2004    4954   \n",
       "1476           700      US       659  LGA       214   1/21/2004    2160   \n",
       "\n",
       "     ORIGIN  Weather DAY_WEEK  DAY_OF_MONTH TAIL_NUM Flight Status  \\\n",
       "363     DCA        0        2             6   N733UW        ontime   \n",
       "1063    BWI        0        4            15   N17560       delayed   \n",
       "1691    IAD        0        6            24   N312UE       delayed   \n",
       "1295    DCA        0        1            19   N717MQ       delayed   \n",
       "1476    DCA        0        3            21   N713UW        ontime   \n",
       "\n",
       "      CRS_DEP_HOUR CRS_DEP_HOUR_CAT  \n",
       "363             21               20  \n",
       "1063            17               16  \n",
       "1691            17               16  \n",
       "1295             8                7  \n",
       "1476             7                6  "
      ]
     },
     "execution_count": 30,
     "metadata": {},
     "output_type": "execute_result"
    }
   ],
   "source": [
    "final_df.head()"
   ]
  },
  {
   "cell_type": "code",
   "execution_count": 31,
   "id": "ONVsw2F_JCaD",
   "metadata": {
    "id": "ONVsw2F_JCaD"
   },
   "outputs": [
    {
     "data": {
      "text/plain": [
       "CategoricalDtype(categories=[1, 2, 3, 4, 5, 6, 7], ordered=False)"
      ]
     },
     "execution_count": 31,
     "metadata": {},
     "output_type": "execute_result"
    }
   ],
   "source": [
    "#Convert the day_week column from numerical into categorical data\n",
    "final_df.DAY_WEEK = final_df.DAY_WEEK.astype('category')\n",
    "final_df.DAY_WEEK.dtype"
   ]
  },
  {
   "cell_type": "code",
   "execution_count": 32,
   "id": "cO5KHzg2JFyW",
   "metadata": {
    "id": "cO5KHzg2JFyW"
   },
   "outputs": [
    {
     "name": "stdout",
     "output_type": "stream",
     "text": [
      "RangeIndex(start=6, stop=24, step=1)\n"
     ]
    }
   ],
   "source": [
    "#bin the times from 6 a.m. (600 hrs) to 11:59 a.m.(2400)\n",
    "final_df['CRS_DEP_HOUR'] = [round(t/100) for t in final_df['CRS_DEP_TIME']]\n",
    "final_df['CRS_DEP_HOUR_CAT'] = pd.cut(final_df['CRS_DEP_HOUR'], bins=range(6, 25), labels=range(6, 24), include_lowest=True).astype('category')\n",
    "print(final_df['CRS_DEP_HOUR_CAT'].cat.categories)"
   ]
  },
  {
   "cell_type": "code",
   "execution_count": 33,
   "id": "11qy9ahEJFeB",
   "metadata": {
    "id": "11qy9ahEJFeB"
   },
   "outputs": [],
   "source": [
    "# Data Partition\n",
    "#split the data into training (60%) and testing (40%)\n",
    "predictors = ['DAY_WEEK','CRS_DEP_HOUR_CAT','ORIGIN','DEST','CARRIER']\n",
    "outcome = 'Flight Status'\n",
    "\n",
    "X = pd.get_dummies(final_df[predictors])\n",
    "y = final_df['Flight Status']\n",
    "classes = ['ontime','delayed']\n",
    "\n",
    "#split into training and validation\n",
    "X_train, X_valid, y_train, y_valid = train_test_split(X,y, test_size=0.40,random_state=1)"
   ]
  },
  {
   "cell_type": "code",
   "execution_count": 34,
   "id": "8-QdOEYcJFD-",
   "metadata": {
    "id": "8-QdOEYcJFD-"
   },
   "outputs": [
    {
     "name": "stdout",
     "output_type": "stream",
     "text": [
      "Train Data Prediction Probabilities:\n",
      "     delayed    ontime\n",
      "0  0.665283  0.334717\n",
      "1  0.684052  0.315948\n",
      "2  0.159677  0.840323\n",
      "3  0.430874  0.569126\n",
      "4  0.449850  0.550150\n",
      "\n",
      "\n",
      "Validation Data Prediction Probabilities:\n",
      "     delayed    ontime\n",
      "0  0.229165  0.770835\n",
      "1  0.873309  0.126691\n",
      "2  0.477537  0.522463\n",
      "3  0.785632  0.214368\n",
      "4  0.713656  0.286344\n"
     ]
    }
   ],
   "source": [
    "#Run Naive Bayes \n",
    "final_df_nb = MultinomialNB(alpha=0.01)\n",
    "final_df_nb.fit(X_train, y_train)\n",
    "\n",
    "#predict probabilities (the belonging probabilities of each record to its particular class)\n",
    "predProb_train = final_df_nb.predict_proba(X_train)\n",
    "predProb_valid = final_df_nb.predict_proba(X_valid)\n",
    "\n",
    "#Convert the predicted probabilities to a pandas data frame as a check and for data visualization purposes\n",
    "train_df = pd.DataFrame(predProb_train, columns=final_df_nb.classes_)\n",
    "valid_df = pd.DataFrame(predProb_valid, columns=final_df_nb.classes_)\n",
    "\n",
    "\n",
    "print(\"Train Data Prediction Probabilities:\\n\", train_df.head())\n",
    "print(\"\\n\\nValidation Data Prediction Probabilities:\\n\", valid_df.head())"
   ]
  },
  {
   "cell_type": "markdown",
   "id": "9ZXMfsgFJbPm",
   "metadata": {
    "id": "9ZXMfsgFJbPm"
   },
   "source": [
    "The above code runs the NB model to train the data (X_train and y_train) with a smoothing parameter of 0.01 then we predict the probability of each record belonging to either the training data or validation data\n",
    "The predicted probabilities and valid probabilities are then turned into pandas df to make it easier to visualize."
   ]
  },
  {
   "cell_type": "code",
   "execution_count": 35,
   "id": "p2Izg46lJK1e",
   "metadata": {
    "id": "p2Izg46lJK1e"
   },
   "outputs": [],
   "source": [
    "#predict the class instead of probability by selecting class with highest probabilities\n",
    "y_valid_pred = final_df_nb.predict(X_valid)\n",
    "y_train_pred = final_df_nb.predict(X_train)"
   ]
  },
  {
   "cell_type": "markdown",
   "id": "jVpicY1uJltB",
   "metadata": {
    "id": "jVpicY1uJltB"
   },
   "source": [
    "Above, we use (y_train_pred) and y_valid_pred to predict which class rather than probability has the for both training data (y_train_pred) and validation data (y_valid_pred)"
   ]
  },
  {
   "cell_type": "code",
   "execution_count": 36,
   "id": "XgOBnsTcJLa8",
   "metadata": {
    "id": "XgOBnsTcJLa8",
    "scrolled": false
   },
   "outputs": [
    {
     "name": "stdout",
     "output_type": "stream",
     "text": [
      "Training Confusion Matrix:\n",
      "\n",
      "                Predicted Delayed  Predicted On Time\n",
      "Actual Delayed                717                353\n",
      "Actual On Time                444                613\n",
      "\n",
      "Validation Confusion Matrix:\n",
      "\n",
      "                Predicted Delayed  Predicted On Time\n",
      "Actual Delayed                475                228\n",
      "Actual On Time                320                396\n",
      "\n",
      "\n",
      "Classification Report:\n",
      "\n",
      "               precision    recall  f1-score   support\n",
      "\n",
      "     delayed       0.60      0.68      0.63       703\n",
      "      ontime       0.63      0.55      0.59       716\n",
      "\n",
      "    accuracy                           0.61      1419\n",
      "   macro avg       0.62      0.61      0.61      1419\n",
      "weighted avg       0.62      0.61      0.61      1419\n",
      "\n"
     ]
    }
   ],
   "source": [
    "# Create confusion matrix for training data\n",
    "cm_train = confusion_matrix(y_train, y_train_pred)\n",
    "\n",
    "# Convert confusion matrix to a pandas DataFrame\n",
    "cm_train_df = pd.DataFrame(cm_train, columns=['Predicted Delayed','Predicted On Time'], \n",
    "                           index=['Actual Delayed','Actual On Time'])\n",
    "\n",
    "# Create confusion matrix for validation data\n",
    "cm_valid = confusion_matrix(y_valid, y_valid_pred)\n",
    "\n",
    "# Convert confusion matrix to a pandas DataFrame\n",
    "cm_valid_df = pd.DataFrame(cm_valid, columns=['Predicted Delayed','Predicted On Time'], \n",
    "                           index=['Actual Delayed','Actual On Time'])\n",
    "\n",
    "# Print confusion matrices\n",
    "print(\"Training Confusion Matrix:\\n\")\n",
    "print(cm_train_df)\n",
    "\n",
    "print(\"\\nValidation Confusion Matrix:\\n\")\n",
    "print(cm_valid_df)\n",
    "\n",
    "# Create classification report\n",
    "print(\"\\n\\nClassification Report:\\n\\n\",(classification_report(y_valid, y_valid_pred)))"
   ]
  },
  {
   "cell_type": "code",
   "execution_count": 37,
   "id": "QJFAHcduJLvM",
   "metadata": {
    "id": "QJFAHcduJLvM"
   },
   "outputs": [
    {
     "name": "stdout",
     "output_type": "stream",
     "text": [
      "              precision    recall  f-score   count\n",
      "\n",
      "     delayed       0.60      0.68      0.63       703\n",
      "      ontime       0.63      0.55      0.59       716\n",
      "\n",
      "    accuracy                           0.61      1419\n",
      "   macro avg       0.62      0.61      0.61      1419\n",
      "weighted avg       0.62      0.61      0.61      1419\n",
      "\n"
     ]
    }
   ],
   "source": [
    "#Change column name\n",
    "def custom_report(y_true, y_pred):\n",
    "    report = classification_report(y_true, y_pred)\n",
    "    return report.replace(\"f1-score\", \"f-score\").replace(\"support\", \"count\")\n",
    "\n",
    "# Usage example\n",
    "print(custom_report(y_valid, y_valid_pred))"
   ]
  },
  {
   "cell_type": "markdown",
   "id": "3403942e",
   "metadata": {
    "id": "3403942e"
   },
   "source": [
    "# Linear Discriminant Analysis"
   ]
  },
  {
   "cell_type": "code",
   "execution_count": 38,
   "id": "fee8b1d4",
   "metadata": {},
   "outputs": [
    {
     "data": {
      "text/html": [
       "<div>\n",
       "<style scoped>\n",
       "    .dataframe tbody tr th:only-of-type {\n",
       "        vertical-align: middle;\n",
       "    }\n",
       "\n",
       "    .dataframe tbody tr th {\n",
       "        vertical-align: top;\n",
       "    }\n",
       "\n",
       "    .dataframe thead th {\n",
       "        text-align: right;\n",
       "    }\n",
       "</style>\n",
       "<table border=\"1\" class=\"dataframe\">\n",
       "  <thead>\n",
       "    <tr style=\"text-align: right;\">\n",
       "      <th></th>\n",
       "      <th>CRS_DEP_TIME</th>\n",
       "      <th>CARRIER</th>\n",
       "      <th>DEP_TIME</th>\n",
       "      <th>DEST</th>\n",
       "      <th>DISTANCE</th>\n",
       "      <th>FL_DATE</th>\n",
       "      <th>FL_NUM</th>\n",
       "      <th>ORIGIN</th>\n",
       "      <th>Weather</th>\n",
       "      <th>DAY_WEEK</th>\n",
       "      <th>DAY_OF_MONTH</th>\n",
       "      <th>TAIL_NUM</th>\n",
       "      <th>Flight Status</th>\n",
       "      <th>CRS_DEP_HOUR</th>\n",
       "      <th>CRS_DEP_HOUR_CAT</th>\n",
       "    </tr>\n",
       "  </thead>\n",
       "  <tbody>\n",
       "    <tr>\n",
       "      <th>363</th>\n",
       "      <td>2100</td>\n",
       "      <td>US</td>\n",
       "      <td>2104</td>\n",
       "      <td>LGA</td>\n",
       "      <td>214</td>\n",
       "      <td>01/06/2004</td>\n",
       "      <td>2188</td>\n",
       "      <td>DCA</td>\n",
       "      <td>0</td>\n",
       "      <td>2</td>\n",
       "      <td>6</td>\n",
       "      <td>N733UW</td>\n",
       "      <td>ontime</td>\n",
       "      <td>21</td>\n",
       "      <td>20</td>\n",
       "    </tr>\n",
       "    <tr>\n",
       "      <th>1063</th>\n",
       "      <td>1720</td>\n",
       "      <td>RU</td>\n",
       "      <td>1811</td>\n",
       "      <td>EWR</td>\n",
       "      <td>169</td>\n",
       "      <td>1/15/2004</td>\n",
       "      <td>3372</td>\n",
       "      <td>BWI</td>\n",
       "      <td>0</td>\n",
       "      <td>4</td>\n",
       "      <td>15</td>\n",
       "      <td>N17560</td>\n",
       "      <td>delayed</td>\n",
       "      <td>17</td>\n",
       "      <td>16</td>\n",
       "    </tr>\n",
       "    <tr>\n",
       "      <th>1691</th>\n",
       "      <td>1715</td>\n",
       "      <td>DH</td>\n",
       "      <td>1715</td>\n",
       "      <td>JFK</td>\n",
       "      <td>228</td>\n",
       "      <td>1/24/2004</td>\n",
       "      <td>7812</td>\n",
       "      <td>IAD</td>\n",
       "      <td>0</td>\n",
       "      <td>6</td>\n",
       "      <td>24</td>\n",
       "      <td>N312UE</td>\n",
       "      <td>delayed</td>\n",
       "      <td>17</td>\n",
       "      <td>16</td>\n",
       "    </tr>\n",
       "    <tr>\n",
       "      <th>1295</th>\n",
       "      <td>800</td>\n",
       "      <td>MQ</td>\n",
       "      <td>822</td>\n",
       "      <td>LGA</td>\n",
       "      <td>214</td>\n",
       "      <td>1/19/2004</td>\n",
       "      <td>4954</td>\n",
       "      <td>DCA</td>\n",
       "      <td>0</td>\n",
       "      <td>1</td>\n",
       "      <td>19</td>\n",
       "      <td>N717MQ</td>\n",
       "      <td>delayed</td>\n",
       "      <td>8</td>\n",
       "      <td>7</td>\n",
       "    </tr>\n",
       "    <tr>\n",
       "      <th>1476</th>\n",
       "      <td>700</td>\n",
       "      <td>US</td>\n",
       "      <td>659</td>\n",
       "      <td>LGA</td>\n",
       "      <td>214</td>\n",
       "      <td>1/21/2004</td>\n",
       "      <td>2160</td>\n",
       "      <td>DCA</td>\n",
       "      <td>0</td>\n",
       "      <td>3</td>\n",
       "      <td>21</td>\n",
       "      <td>N713UW</td>\n",
       "      <td>ontime</td>\n",
       "      <td>7</td>\n",
       "      <td>6</td>\n",
       "    </tr>\n",
       "  </tbody>\n",
       "</table>\n",
       "</div>"
      ],
      "text/plain": [
       "      CRS_DEP_TIME CARRIER  DEP_TIME DEST  DISTANCE     FL_DATE  FL_NUM  \\\n",
       "363           2100      US      2104  LGA       214  01/06/2004    2188   \n",
       "1063          1720      RU      1811  EWR       169   1/15/2004    3372   \n",
       "1691          1715      DH      1715  JFK       228   1/24/2004    7812   \n",
       "1295           800      MQ       822  LGA       214   1/19/2004    4954   \n",
       "1476           700      US       659  LGA       214   1/21/2004    2160   \n",
       "\n",
       "     ORIGIN  Weather DAY_WEEK  DAY_OF_MONTH TAIL_NUM Flight Status  \\\n",
       "363     DCA        0        2             6   N733UW        ontime   \n",
       "1063    BWI        0        4            15   N17560       delayed   \n",
       "1691    IAD        0        6            24   N312UE       delayed   \n",
       "1295    DCA        0        1            19   N717MQ       delayed   \n",
       "1476    DCA        0        3            21   N713UW        ontime   \n",
       "\n",
       "      CRS_DEP_HOUR CRS_DEP_HOUR_CAT  \n",
       "363             21               20  \n",
       "1063            17               16  \n",
       "1691            17               16  \n",
       "1295             8                7  \n",
       "1476             7                6  "
      ]
     },
     "execution_count": 38,
     "metadata": {},
     "output_type": "execute_result"
    }
   ],
   "source": [
    "final_df.head()"
   ]
  },
  {
   "cell_type": "code",
   "execution_count": 39,
   "id": "8302e3d1",
   "metadata": {
    "id": "8302e3d1"
   },
   "outputs": [
    {
     "data": {
      "text/plain": [
       "CategoricalDtype(categories=[1, 2, 3, 4, 5, 6, 7], ordered=False)"
      ]
     },
     "execution_count": 39,
     "metadata": {},
     "output_type": "execute_result"
    }
   ],
   "source": [
    "#Convert the day_week column from numerical into categorical data\n",
    "final_df.DAY_WEEK = final_df.DAY_WEEK.astype('category')\n",
    "final_df.DAY_WEEK.dtype"
   ]
  },
  {
   "cell_type": "code",
   "execution_count": 40,
   "id": "319c2fbd",
   "metadata": {},
   "outputs": [
    {
     "name": "stdout",
     "output_type": "stream",
     "text": [
      "363     20\n",
      "1063    16\n",
      "1691    16\n",
      "1295     7\n",
      "1476     6\n",
      "        ..\n",
      "1389     7\n",
      "1571    15\n",
      "1018    11\n",
      "2053    20\n",
      "1638    12\n",
      "Name: CRS_DEP_HOUR_CAT, Length: 3546, dtype: category\n",
      "Categories (18, int64): [6 < 7 < 8 < 9 ... 20 < 21 < 22 < 23]\n"
     ]
    }
   ],
   "source": [
    "#bin the times from 6 a.m. (600 hrs) to 11:59 a.m.(2400)\n",
    "final_df['CRS_DEP_HOUR'] = [round(t/100) for t in final_df['CRS_DEP_TIME']]\n",
    "final_df['CRS_DEP_HOUR_CAT'] = pd.cut(final_df['CRS_DEP_HOUR'], bins=range(6, 25), labels=range(6, 24), include_lowest=True).astype('category')\n",
    "print(final_df['CRS_DEP_HOUR_CAT'])"
   ]
  },
  {
   "cell_type": "code",
   "execution_count": 41,
   "id": "c6197587",
   "metadata": {},
   "outputs": [],
   "source": [
    "#One-hot encoding for categorical variables\n",
    "#split the data into training (60%) and testing (40%)\n",
    "predictors = ['DAY_WEEK','ORIGIN','DEST','CARRIER','Weather','CRS_DEP_HOUR_CAT']\n",
    "outcome = 'Flight Status'\n",
    "\n",
    "DA_X = pd.get_dummies(final_df[predictors])\n",
    "DA_y = final_df['Flight Status']"
   ]
  },
  {
   "cell_type": "code",
   "execution_count": 42,
   "id": "e5452ba4",
   "metadata": {},
   "outputs": [],
   "source": [
    "#split into training and validation\n",
    "DA_X_train, DA_X_valid, DA_y_train, DA_y_valid = train_test_split(DA_X,DA_y, test_size=0.40,random_state=1)"
   ]
  },
  {
   "cell_type": "code",
   "execution_count": 43,
   "id": "50d1b1fb",
   "metadata": {},
   "outputs": [
    {
     "data": {
      "text/plain": [
       "LinearDiscriminantAnalysis()"
      ]
     },
     "execution_count": 43,
     "metadata": {},
     "output_type": "execute_result"
    }
   ],
   "source": [
    "# Fit LDA model to training data\n",
    "\n",
    "lda = LinearDiscriminantAnalysis()\n",
    "lda.fit(DA_X_train, DA_y_train)"
   ]
  },
  {
   "cell_type": "code",
   "execution_count": 44,
   "id": "2ecf136d",
   "metadata": {},
   "outputs": [],
   "source": [
    "# Make predictions on testing data\n",
    "DA_y_pred = lda.predict(DA_X_valid)"
   ]
  },
  {
   "cell_type": "code",
   "execution_count": 45,
   "id": "cf537cd2",
   "metadata": {},
   "outputs": [
    {
     "name": "stdout",
     "output_type": "stream",
     "text": [
      "Confusion Matrix (Accuracy 0.6646)\n",
      "\n",
      "       Prediction\n",
      "Actual   0   1\n",
      "     0 488 215\n",
      "     1 261 455\n",
      "None\n"
     ]
    }
   ],
   "source": [
    "#Convert Y_pred and Y-test do dataframe \n",
    "result = pd.DataFrame({'Predicted': DA_y_pred, 'Actual': DA_y_valid})\n",
    "\n",
    "# Create the confusion matrix\n",
    "DA_y_actual = result['Actual']\n",
    "DA_y_predicted = result['Predicted']\n",
    "\n",
    "DA_classification_Summary = classificationSummary(DA_y_actual, DA_y_predicted)\n",
    "print(DA_classification_Summary)"
   ]
  },
  {
   "cell_type": "code",
   "execution_count": 46,
   "id": "bb925579",
   "metadata": {},
   "outputs": [
    {
     "name": "stdout",
     "output_type": "stream",
     "text": [
      "              precision    recall  f1-score   support\n",
      "\n",
      "     delayed       0.65      0.69      0.67       703\n",
      "      ontime       0.68      0.64      0.66       716\n",
      "\n",
      "    accuracy                           0.66      1419\n",
      "   macro avg       0.67      0.66      0.66      1419\n",
      "weighted avg       0.67      0.66      0.66      1419\n",
      "\n"
     ]
    }
   ],
   "source": [
    "# Create classification report\n",
    "DA_report = classification_report(DA_y_actual,DA_y_predicted)\n",
    "print(DA_report)"
   ]
  },
  {
   "cell_type": "code",
   "execution_count": 47,
   "id": "8b9a69f3",
   "metadata": {},
   "outputs": [
    {
     "data": {
      "text/html": [
       "<div>\n",
       "<style scoped>\n",
       "    .dataframe tbody tr th:only-of-type {\n",
       "        vertical-align: middle;\n",
       "    }\n",
       "\n",
       "    .dataframe tbody tr th {\n",
       "        vertical-align: top;\n",
       "    }\n",
       "\n",
       "    .dataframe thead th {\n",
       "        text-align: right;\n",
       "    }\n",
       "</style>\n",
       "<table border=\"1\" class=\"dataframe\">\n",
       "  <thead>\n",
       "    <tr style=\"text-align: right;\">\n",
       "      <th></th>\n",
       "      <th>Weather</th>\n",
       "      <th>DAY_WEEK_1</th>\n",
       "      <th>DAY_WEEK_2</th>\n",
       "      <th>DAY_WEEK_3</th>\n",
       "      <th>DAY_WEEK_4</th>\n",
       "      <th>DAY_WEEK_5</th>\n",
       "      <th>DAY_WEEK_6</th>\n",
       "      <th>DAY_WEEK_7</th>\n",
       "      <th>ORIGIN_BWI</th>\n",
       "      <th>ORIGIN_DCA</th>\n",
       "      <th>...</th>\n",
       "      <th>CRS_DEP_HOUR_CAT_14</th>\n",
       "      <th>CRS_DEP_HOUR_CAT_15</th>\n",
       "      <th>CRS_DEP_HOUR_CAT_16</th>\n",
       "      <th>CRS_DEP_HOUR_CAT_17</th>\n",
       "      <th>CRS_DEP_HOUR_CAT_18</th>\n",
       "      <th>CRS_DEP_HOUR_CAT_19</th>\n",
       "      <th>CRS_DEP_HOUR_CAT_20</th>\n",
       "      <th>CRS_DEP_HOUR_CAT_21</th>\n",
       "      <th>CRS_DEP_HOUR_CAT_22</th>\n",
       "      <th>CRS_DEP_HOUR_CAT_23</th>\n",
       "    </tr>\n",
       "  </thead>\n",
       "  <tbody>\n",
       "    <tr>\n",
       "      <th>1885</th>\n",
       "      <td>0</td>\n",
       "      <td>0</td>\n",
       "      <td>1</td>\n",
       "      <td>0</td>\n",
       "      <td>0</td>\n",
       "      <td>0</td>\n",
       "      <td>0</td>\n",
       "      <td>0</td>\n",
       "      <td>0</td>\n",
       "      <td>1</td>\n",
       "      <td>...</td>\n",
       "      <td>0</td>\n",
       "      <td>0</td>\n",
       "      <td>0</td>\n",
       "      <td>0</td>\n",
       "      <td>0</td>\n",
       "      <td>1</td>\n",
       "      <td>0</td>\n",
       "      <td>0</td>\n",
       "      <td>0</td>\n",
       "      <td>0</td>\n",
       "    </tr>\n",
       "    <tr>\n",
       "      <th>1335</th>\n",
       "      <td>0</td>\n",
       "      <td>1</td>\n",
       "      <td>0</td>\n",
       "      <td>0</td>\n",
       "      <td>0</td>\n",
       "      <td>0</td>\n",
       "      <td>0</td>\n",
       "      <td>0</td>\n",
       "      <td>0</td>\n",
       "      <td>0</td>\n",
       "      <td>...</td>\n",
       "      <td>0</td>\n",
       "      <td>0</td>\n",
       "      <td>0</td>\n",
       "      <td>0</td>\n",
       "      <td>1</td>\n",
       "      <td>0</td>\n",
       "      <td>0</td>\n",
       "      <td>0</td>\n",
       "      <td>0</td>\n",
       "      <td>0</td>\n",
       "    </tr>\n",
       "    <tr>\n",
       "      <th>1462</th>\n",
       "      <td>0</td>\n",
       "      <td>0</td>\n",
       "      <td>0</td>\n",
       "      <td>1</td>\n",
       "      <td>0</td>\n",
       "      <td>0</td>\n",
       "      <td>0</td>\n",
       "      <td>0</td>\n",
       "      <td>0</td>\n",
       "      <td>1</td>\n",
       "      <td>...</td>\n",
       "      <td>0</td>\n",
       "      <td>0</td>\n",
       "      <td>0</td>\n",
       "      <td>0</td>\n",
       "      <td>0</td>\n",
       "      <td>0</td>\n",
       "      <td>0</td>\n",
       "      <td>0</td>\n",
       "      <td>0</td>\n",
       "      <td>0</td>\n",
       "    </tr>\n",
       "    <tr>\n",
       "      <th>1214</th>\n",
       "      <td>0</td>\n",
       "      <td>0</td>\n",
       "      <td>0</td>\n",
       "      <td>0</td>\n",
       "      <td>0</td>\n",
       "      <td>0</td>\n",
       "      <td>0</td>\n",
       "      <td>1</td>\n",
       "      <td>0</td>\n",
       "      <td>0</td>\n",
       "      <td>...</td>\n",
       "      <td>0</td>\n",
       "      <td>0</td>\n",
       "      <td>1</td>\n",
       "      <td>0</td>\n",
       "      <td>0</td>\n",
       "      <td>0</td>\n",
       "      <td>0</td>\n",
       "      <td>0</td>\n",
       "      <td>0</td>\n",
       "      <td>0</td>\n",
       "    </tr>\n",
       "    <tr>\n",
       "      <th>1360</th>\n",
       "      <td>0</td>\n",
       "      <td>0</td>\n",
       "      <td>1</td>\n",
       "      <td>0</td>\n",
       "      <td>0</td>\n",
       "      <td>0</td>\n",
       "      <td>0</td>\n",
       "      <td>0</td>\n",
       "      <td>0</td>\n",
       "      <td>0</td>\n",
       "      <td>...</td>\n",
       "      <td>0</td>\n",
       "      <td>1</td>\n",
       "      <td>0</td>\n",
       "      <td>0</td>\n",
       "      <td>0</td>\n",
       "      <td>0</td>\n",
       "      <td>0</td>\n",
       "      <td>0</td>\n",
       "      <td>0</td>\n",
       "      <td>0</td>\n",
       "    </tr>\n",
       "  </tbody>\n",
       "</table>\n",
       "<p>5 rows × 40 columns</p>\n",
       "</div>"
      ],
      "text/plain": [
       "      Weather  DAY_WEEK_1  DAY_WEEK_2  DAY_WEEK_3  DAY_WEEK_4  DAY_WEEK_5  \\\n",
       "1885        0           0           1           0           0           0   \n",
       "1335        0           1           0           0           0           0   \n",
       "1462        0           0           0           1           0           0   \n",
       "1214        0           0           0           0           0           0   \n",
       "1360        0           0           1           0           0           0   \n",
       "\n",
       "      DAY_WEEK_6  DAY_WEEK_7  ORIGIN_BWI  ORIGIN_DCA  ...  \\\n",
       "1885           0           0           0           1  ...   \n",
       "1335           0           0           0           0  ...   \n",
       "1462           0           0           0           1  ...   \n",
       "1214           0           1           0           0  ...   \n",
       "1360           0           0           0           0  ...   \n",
       "\n",
       "      CRS_DEP_HOUR_CAT_14  CRS_DEP_HOUR_CAT_15  CRS_DEP_HOUR_CAT_16  \\\n",
       "1885                    0                    0                    0   \n",
       "1335                    0                    0                    0   \n",
       "1462                    0                    0                    0   \n",
       "1214                    0                    0                    1   \n",
       "1360                    0                    1                    0   \n",
       "\n",
       "      CRS_DEP_HOUR_CAT_17  CRS_DEP_HOUR_CAT_18  CRS_DEP_HOUR_CAT_19  \\\n",
       "1885                    0                    0                    1   \n",
       "1335                    0                    1                    0   \n",
       "1462                    0                    0                    0   \n",
       "1214                    0                    0                    0   \n",
       "1360                    0                    0                    0   \n",
       "\n",
       "      CRS_DEP_HOUR_CAT_20  CRS_DEP_HOUR_CAT_21  CRS_DEP_HOUR_CAT_22  \\\n",
       "1885                    0                    0                    0   \n",
       "1335                    0                    0                    0   \n",
       "1462                    0                    0                    0   \n",
       "1214                    0                    0                    0   \n",
       "1360                    0                    0                    0   \n",
       "\n",
       "      CRS_DEP_HOUR_CAT_23  \n",
       "1885                    0  \n",
       "1335                    0  \n",
       "1462                    0  \n",
       "1214                    0  \n",
       "1360                    0  \n",
       "\n",
       "[5 rows x 40 columns]"
      ]
     },
     "execution_count": 47,
     "metadata": {},
     "output_type": "execute_result"
    }
   ],
   "source": [
    "DA_X_valid.head()"
   ]
  },
  {
   "cell_type": "code",
   "execution_count": 49,
   "id": "bba788cb",
   "metadata": {},
   "outputs": [
    {
     "data": {
      "image/png": "[encoded data removed]",
      "text/plain": [
       "<Figure size 640x480 with 1 Axes>"
      ]
     },
     "metadata": {},
     "output_type": "display_data"
    }
   ],
   "source": [
    "# Create ROC curve plot\n",
    "plot_roc_curve(lda, DA_X_valid, DA_y_valid, pos_label='delayed')\n",
    "plt.title('ROC Curve')\n",
    "plt.show()"
   ]
  },
  {
   "cell_type": "markdown",
   "id": "c112e176",
   "metadata": {},
   "source": [
    "### ROC Curver & AUC (Area Under the Curve)\n",
    "\n",
    "Taking the TPR of 0.8, it means that the model has correctly classified 80% of the positive outcomes, which is \"ontime\". However at this threshold,the respective FPR is 0.5 which mean it falsely classifies 50% of the \"ontime\" outcome; or in otherwords, it classfied the 50% \"delay\" as \"on-time\". \n",
    "\n",
    "AUC of 0.72 which indicate that there is 72% chance  the model will be able to  distinguish between ontime and delay correctly. \n"
   ]
  }
 ],
 "metadata": {
  "colab": {
   "provenance": []
  },
  "kernelspec": {
   "display_name": "Python 3 (ipykernel)",
   "language": "python",
   "name": "python3"
  },
  "language_info": {
   "codemirror_mode": {
    "name": "ipython",
    "version": 3
   },
   "file_extension": ".py",
   "mimetype": "text/x-python",
   "name": "python",
   "nbconvert_exporter": "python",
   "pygments_lexer": "ipython3",
   "version": "3.9.13"
  }
 },
 "nbformat": 4,
 "nbformat_minor": 5
}
